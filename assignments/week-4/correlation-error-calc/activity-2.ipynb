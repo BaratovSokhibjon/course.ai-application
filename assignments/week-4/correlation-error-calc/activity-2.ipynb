{
 "cells": [
  {
   "cell_type": "code",
   "execution_count": 11,
   "id": "416fe3e5",
   "metadata": {},
   "outputs": [],
   "source": [
    "import numpy as np\n",
    "import matplotlib.pyplot as plt"
   ]
  },
  {
   "cell_type": "code",
   "execution_count": 12,
   "id": "e789602f",
   "metadata": {},
   "outputs": [],
   "source": [
    "actual_values = np.array([100, 120, 150, 130])\n",
    "predicted_values = np.array([[110, 115, 140, 128]])"
   ]
  },
  {
   "cell_type": "code",
   "execution_count": 14,
   "id": "ee19b473",
   "metadata": {},
   "outputs": [],
   "source": [
    "abs_errors = np.abs(actual_values - predicted_values)\n",
    "sqrt_errors = (actual_values - predicted_values) ** 2"
   ]
  },
  {
   "cell_type": "code",
   "execution_count": 15,
   "id": "41c58452",
   "metadata": {},
   "outputs": [
    {
     "name": "stdout",
     "output_type": "stream",
     "text": [
      "Mean Absolute Error (MAE): 6.75\n",
      "Root Mean Squared Error (RMSE): 7.566372975210778\n",
      "RMSE is more sensitive to larger mistakes because it squares the errors, giving more weight to larger errors.\n"
     ]
    }
   ],
   "source": [
    "mae = np.mean(abs_errors)\n",
    "print(\"Mean Absolute Error (MAE):\", mae)\n",
    "\n",
    "rmse = np.sqrt(np.mean(sqrt_errors))\n",
    "print(\"Root Mean Squared Error (RMSE):\", rmse)\n",
    "\n",
    "print(\"RMSE is more sensitive to larger mistakes because it squares the errors, giving more weight to larger errors.\")"
   ]
  },
  {
   "cell_type": "code",
   "execution_count": null,
   "id": "382bcb40",
   "metadata": {},
   "outputs": [],
   "source": []
  }
 ],
 "metadata": {
  "kernelspec": {
   "display_name": "Python 3",
   "language": "python",
   "name": "python3"
  },
  "language_info": {
   "codemirror_mode": {
    "name": "ipython",
    "version": 3
   },
   "file_extension": ".py",
   "mimetype": "text/x-python",
   "name": "python",
   "nbconvert_exporter": "python",
   "pygments_lexer": "ipython3",
   "version": "3.11.13"
  }
 },
 "nbformat": 4,
 "nbformat_minor": 5
}
