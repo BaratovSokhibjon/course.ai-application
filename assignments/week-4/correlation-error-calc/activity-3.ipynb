{
 "cells": [
  {
   "cell_type": "code",
   "execution_count": 22,
   "id": "8c46b656",
   "metadata": {},
   "outputs": [],
   "source": [
    "import numpy as np"
   ]
  },
  {
   "cell_type": "code",
   "execution_count": 23,
   "id": "9c69bace",
   "metadata": {},
   "outputs": [],
   "source": [
    "values = np.array([300, 310, 320, 330])\n",
    "model_1 = np.array([305, 315, 300, 325])\n",
    "model_2 = np.array([295, 325, 310, 340])"
   ]
  },
  {
   "cell_type": "markdown",
   "id": "8ee0ef0b",
   "metadata": {},
   "source": [
    "# Model 1"
   ]
  },
  {
   "cell_type": "code",
   "execution_count": 24,
   "id": "a7f237a2",
   "metadata": {},
   "outputs": [
    {
     "data": {
      "text/plain": [
       "array([ 5,  5, 20,  5])"
      ]
     },
     "execution_count": 24,
     "metadata": {},
     "output_type": "execute_result"
    }
   ],
   "source": [
    "absolute_errors_1 = np.abs(values - model_1)\n",
    "absolute_errors_1"
   ]
  },
  {
   "cell_type": "code",
   "execution_count": 25,
   "id": "a9c54ece",
   "metadata": {},
   "outputs": [
    {
     "data": {
      "text/plain": [
       "array([ 25,  25, 400,  25])"
      ]
     },
     "execution_count": 25,
     "metadata": {},
     "output_type": "execute_result"
    }
   ],
   "source": [
    "square_errors_1 = (values - model_1) ** 2\n",
    "square_errors_1"
   ]
  },
  {
   "cell_type": "code",
   "execution_count": 26,
   "id": "a8447bab",
   "metadata": {},
   "outputs": [
    {
     "data": {
      "text/plain": [
       "np.float64(8.75)"
      ]
     },
     "execution_count": 26,
     "metadata": {},
     "output_type": "execute_result"
    }
   ],
   "source": [
    "mae_1 = np.mean(absolute_errors_1)\n",
    "mae_1"
   ]
  },
  {
   "cell_type": "code",
   "execution_count": 27,
   "id": "69ecd9ae",
   "metadata": {},
   "outputs": [
    {
     "data": {
      "text/plain": [
       "np.float64(10.897247358851684)"
      ]
     },
     "execution_count": 27,
     "metadata": {},
     "output_type": "execute_result"
    }
   ],
   "source": [
    "rmse_1 = np.sqrt(np.mean(square_errors_1))\n",
    "rmse_1"
   ]
  },
  {
   "cell_type": "markdown",
   "id": "f2432d3b",
   "metadata": {},
   "source": [
    "# Model 2"
   ]
  },
  {
   "cell_type": "code",
   "execution_count": 28,
   "id": "a2a1c0e8",
   "metadata": {},
   "outputs": [
    {
     "data": {
      "text/plain": [
       "array([ 5, 15, 10, 10])"
      ]
     },
     "execution_count": 28,
     "metadata": {},
     "output_type": "execute_result"
    }
   ],
   "source": [
    "absolute_errors_2 = np.abs(values - model_2)\n",
    "absolute_errors_2"
   ]
  },
  {
   "cell_type": "code",
   "execution_count": 29,
   "id": "2c5f2ec1",
   "metadata": {},
   "outputs": [
    {
     "data": {
      "text/plain": [
       "array([ 25, 225, 100, 100])"
      ]
     },
     "execution_count": 29,
     "metadata": {},
     "output_type": "execute_result"
    }
   ],
   "source": [
    "square_errors_2 = (values - model_2) ** 2\n",
    "square_errors_2"
   ]
  },
  {
   "cell_type": "code",
   "execution_count": 30,
   "id": "4be2e690",
   "metadata": {},
   "outputs": [
    {
     "data": {
      "text/plain": [
       "np.float64(10.0)"
      ]
     },
     "execution_count": 30,
     "metadata": {},
     "output_type": "execute_result"
    }
   ],
   "source": [
    "mae_2 = np.mean(absolute_errors_2)\n",
    "mae_2"
   ]
  },
  {
   "cell_type": "code",
   "execution_count": 31,
   "id": "cba1f0a3",
   "metadata": {},
   "outputs": [
    {
     "data": {
      "text/plain": [
       "np.float64(10.606601717798213)"
      ]
     },
     "execution_count": 31,
     "metadata": {},
     "output_type": "execute_result"
    }
   ],
   "source": [
    "rmse_2 = np.sqrt(np.mean(square_errors_2))\n",
    "rmse_2"
   ]
  },
  {
   "cell_type": "markdown",
   "id": "b9b0f33e",
   "metadata": {},
   "source": [
    "# Performance comparison"
   ]
  },
  {
   "cell_type": "code",
   "execution_count": 35,
   "id": "f1cea5be",
   "metadata": {},
   "outputs": [
    {
     "name": "stdout",
     "output_type": "stream",
     "text": [
      "Model 1: \n",
      " RMSE: 10.897247358851684 \n",
      " MAE: 8.75\n",
      "\n",
      "Model 2: \n",
      " RMSE: 10.606601717798213 \n",
      " MAE: 10.0\n",
      "\n",
      "Model 1 is more accurate because it has less MAE\n"
     ]
    }
   ],
   "source": [
    "print(f\"Model 1: \\n RMSE: {rmse_1} \\n MAE: {mae_1}\\n\")\n",
    "print(f\"Model 2: \\n RMSE: {rmse_2} \\n MAE: {mae_2}\\n\")\n",
    "\n",
    "print(\"Model 1 is more accurate because it has less MAE\")"
   ]
  },
  {
   "cell_type": "code",
   "execution_count": null,
   "id": "c6294ee1",
   "metadata": {},
   "outputs": [],
   "source": []
  }
 ],
 "metadata": {
  "kernelspec": {
   "display_name": "Python 3",
   "language": "python",
   "name": "python3"
  },
  "language_info": {
   "codemirror_mode": {
    "name": "ipython",
    "version": 3
   },
   "file_extension": ".py",
   "mimetype": "text/x-python",
   "name": "python",
   "nbconvert_exporter": "python",
   "pygments_lexer": "ipython3",
   "version": "3.11.13"
  }
 },
 "nbformat": 4,
 "nbformat_minor": 5
}
