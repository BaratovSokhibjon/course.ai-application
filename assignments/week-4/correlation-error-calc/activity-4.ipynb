{
 "cells": [
  {
   "cell_type": "code",
   "execution_count": 3,
   "id": "5e9ffc5b",
   "metadata": {},
   "outputs": [],
   "source": [
    "import numpy as np"
   ]
  },
  {
   "cell_type": "code",
   "execution_count": 4,
   "id": "053dc30c",
   "metadata": {},
   "outputs": [],
   "source": [
    "actual_data = np.array([10, 15, 20, 30, 5])\n",
    "predicted_data = np.array([5, 20, 15, 40, 15])"
   ]
  },
  {
   "cell_type": "code",
   "execution_count": 6,
   "id": "0f9fcbe8",
   "metadata": {},
   "outputs": [
    {
     "data": {
      "text/plain": [
       "array([[1.        , 0.81342358],\n",
       "       [0.81342358, 1.        ]])"
      ]
     },
     "execution_count": 6,
     "metadata": {},
     "output_type": "execute_result"
    }
   ],
   "source": [
    "correlation = np.corrcoef(actual_data, predicted_data)\n",
    "correlation"
   ]
  },
  {
   "cell_type": "code",
   "execution_count": 8,
   "id": "df72c436",
   "metadata": {},
   "outputs": [
    {
     "data": {
      "text/plain": [
       "np.float64(7.0)"
      ]
     },
     "execution_count": 8,
     "metadata": {},
     "output_type": "execute_result"
    }
   ],
   "source": [
    "mae = np.mean(np.abs(actual_data - predicted_data))\n",
    "mae"
   ]
  },
  {
   "cell_type": "code",
   "execution_count": 9,
   "id": "5083a13e",
   "metadata": {},
   "outputs": [
    {
     "data": {
      "text/plain": [
       "np.float64(7.416198487095663)"
      ]
     },
     "execution_count": 9,
     "metadata": {},
     "output_type": "execute_result"
    }
   ],
   "source": [
    "rmse = np.sqrt(np.mean((actual_data - predicted_data) ** 2))\n",
    "rmse"
   ]
  },
  {
   "cell_type": "code",
   "execution_count": 12,
   "id": "c26cf59d",
   "metadata": {},
   "outputs": [
    {
     "data": {
      "text/plain": [
       "np.float64(0.9722222222222222)"
      ]
     },
     "execution_count": 12,
     "metadata": {},
     "output_type": "execute_result"
    }
   ],
   "source": [
    "rae = np.sum(np.abs(actual_data - predicted_data)) / np.sum(np.abs(actual_data - np.mean(actual_data)))\n",
    "rae"
   ]
  },
  {
   "cell_type": "code",
   "execution_count": 13,
   "id": "1b31ca1b",
   "metadata": {},
   "outputs": [
    {
     "data": {
      "text/plain": [
       "np.float64(0.8621155625803557)"
      ]
     },
     "execution_count": 13,
     "metadata": {},
     "output_type": "execute_result"
    }
   ],
   "source": [
    "rrse = np.sqrt(np.sum((actual_data - predicted_data) ** 2) / np.sum((actual_data - np.mean(actual_data)) ** 2))\n",
    "rrse"
   ]
  },
  {
   "cell_type": "code",
   "execution_count": null,
   "id": "09e86bbc",
   "metadata": {},
   "outputs": [
    {
     "data": {
      "image/png": "[encoded data removed]",
      "text/plain": [
       "<Figure size 640x480 with 1 Axes>"
      ]
     },
     "metadata": {},
     "output_type": "display_data"
    }
   ],
   "source": [
    "import matplotlib.pyplot as plt\n",
    "\n",
    "errors = [mae, rmse, rae, rrse]\n",
    "error_names = ['MAE', 'RMSE', 'RAE', 'RRSE']\n",
    "\n",
    "plt.bar(error_names, errors, color=['skyblue', 'orange', 'green', 'red'])\n",
    "plt.ylabel('Error Value')\n",
    "plt.title('Comparison of Error Metrics')\n",
    "plt.show()"
   ]
  },
  {
   "cell_type": "markdown",
   "id": "eef0b59e",
   "metadata": {},
   "source": [
    "**Findings:**\n",
    "\n",
    "The bar chart above compares four error metrics: MAE, RMSE, RAE, and RRSE. Each metric provides a different perspective on the prediction errors, with lower values indicating better model performance. In this case, the errors are moderate, suggesting the model's predictions are not perfect but capture some trends in the data.\n",
    "\n",
    "**Discussion:**\n",
    "\n",
    "A high correlation does not always mean the model is accurate. Correlation measures the strength and direction of a linear relationship between actual and predicted values, but it does not account for the magnitude of errors. A model can have a high correlation if it captures the trend, even if the predictions are consistently off by a large amount. Therefore, error metrics are essential to assess the true accuracy of a model."
   ]
  }
 ],
 "metadata": {
  "kernelspec": {
   "display_name": "Python 3",
   "language": "python",
   "name": "python3"
  },
  "language_info": {
   "codemirror_mode": {
    "name": "ipython",
    "version": 3
   },
   "file_extension": ".py",
   "mimetype": "text/x-python",
   "name": "python",
   "nbconvert_exporter": "python",
   "pygments_lexer": "ipython3",
   "version": "3.11.13"
  }
 },
 "nbformat": 4,
 "nbformat_minor": 5
}
