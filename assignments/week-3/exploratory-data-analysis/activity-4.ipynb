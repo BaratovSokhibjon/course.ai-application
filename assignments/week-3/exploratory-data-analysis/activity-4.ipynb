{
 "cells": [
  {
   "cell_type": "code",
   "execution_count": 14,
   "id": "730e4043",
   "metadata": {},
   "outputs": [],
   "source": [
    "import pandas as pd\n",
    "import numpy as np"
   ]
  },
  {
   "cell_type": "code",
   "execution_count": 15,
   "id": "cb9c91a8",
   "metadata": {},
   "outputs": [
    {
     "name": "stdout",
     "output_type": "stream",
     "text": [
      "Original dataset:\n",
      "    Name   Age Grade  Score\n",
      "0  Alice  20.0     A   90.0\n",
      "1    Bob   NaN     B   85.0\n",
      "2  Carol  19.0   NaN   78.0\n",
      "3   Dave  21.0     B    NaN\n",
      "4    Eve  22.0     A   88.0\n",
      "\n",
      "Missing values per column:\n",
      "Name     0\n",
      "Age      1\n",
      "Grade    1\n",
      "Score    1\n",
      "dtype: int64\n"
     ]
    }
   ],
   "source": [
    "# Create dataset with missing values\n",
    "data = {\n",
    "    'Name': ['Alice', 'Bob', 'Carol', 'Dave', 'Eve'],\n",
    "    'Age': [20, np.nan, 19, 21, 22],\n",
    "    'Grade': ['A', 'B', np.nan, 'B', 'A'],\n",
    "    'Score': [90, 85, 78, np.nan, 88]\n",
    "}\n",
    "\n",
    "df = pd.DataFrame(data)\n",
    "print(\"Original dataset:\")\n",
    "print(df)\n",
    "print(f\"\\nMissing values per column:\\n{df.isnull().sum()}\")"
   ]
  },
  {
   "cell_type": "code",
   "execution_count": 16,
   "id": "a9ebcce6",
   "metadata": {},
   "outputs": [
    {
     "name": "stdout",
     "output_type": "stream",
     "text": [
      "After filling numeric values with median:\n",
      "    Name   Age Grade  Score\n",
      "0  Alice  20.0     A   90.0\n",
      "1    Bob  20.5     B   85.0\n",
      "2  Carol  19.0   NaN   78.0\n",
      "3   Dave  21.0     B   86.5\n",
      "4    Eve  22.0     A   88.0\n"
     ]
    }
   ],
   "source": [
    "# Fill missing numeric values with median\n",
    "df['Age'] = df['Age'].fillna(df['Age'].median())\n",
    "df['Score'] = df['Score'].fillna(df['Score'].median())\n",
    "\n",
    "print(\"After filling numeric values with median:\")\n",
    "print(df)\n"
   ]
  },
  {
   "cell_type": "code",
   "execution_count": 17,
   "id": "b3c6f49b",
   "metadata": {},
   "outputs": [
    {
     "name": "stdout",
     "output_type": "stream",
     "text": [
      "After filling categorical values with mode:\n",
      "    Name   Age Grade  Score\n",
      "0  Alice  20.0     A   90.0\n",
      "1    Bob  20.5     B   85.0\n",
      "2  Carol  19.0     A   78.0\n",
      "3   Dave  21.0     B   86.5\n",
      "4    Eve  22.0     A   88.0\n"
     ]
    }
   ],
   "source": [
    "# Fill missing categorical values with mode\n",
    "grade_mode = df['Grade'].mode()[0]\n",
    "df['Grade'] = df['Grade'].fillna(grade_mode)\n",
    "\n",
    "print(\"After filling categorical values with mode:\")\n",
    "print(df)"
   ]
  },
  {
   "cell_type": "code",
   "execution_count": 18,
   "id": "6b45936a",
   "metadata": {},
   "outputs": [
    {
     "name": "stdout",
     "output_type": "stream",
     "text": [
      "Final verification - Missing values per column:\n",
      "Name     0\n",
      "Age      0\n",
      "Grade    0\n",
      "Score    0\n",
      "dtype: int64\n",
      "\n",
      "Final dataset:\n",
      "    Name   Age Grade  Score\n",
      "0  Alice  20.0     A   90.0\n",
      "1    Bob  20.5     B   85.0\n",
      "2  Carol  19.0     A   78.0\n",
      "3   Dave  21.0     B   86.5\n",
      "4    Eve  22.0     A   88.0\n"
     ]
    }
   ],
   "source": [
    "# Verify all missing values handled\n",
    "print(\"Final verification - Missing values per column:\")\n",
    "print(df.isnull().sum())\n",
    "print(\"\\nFinal dataset:\")\n",
    "print(df)"
   ]
  },
  {
   "cell_type": "code",
   "execution_count": null,
   "id": "043347fb",
   "metadata": {},
   "outputs": [],
   "source": []
  }
 ],
 "metadata": {
  "kernelspec": {
   "display_name": "course.ai-application",
   "language": "python",
   "name": "python3"
  },
  "language_info": {
   "codemirror_mode": {
    "name": "ipython",
    "version": 3
   },
   "file_extension": ".py",
   "mimetype": "text/x-python",
   "name": "python",
   "nbconvert_exporter": "python",
   "pygments_lexer": "ipython3",
   "version": "3.10.18"
  }
 },
 "nbformat": 4,
 "nbformat_minor": 5
}
