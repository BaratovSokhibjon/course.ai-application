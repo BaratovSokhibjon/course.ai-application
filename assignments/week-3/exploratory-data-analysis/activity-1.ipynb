{
 "cells": [
  {
   "cell_type": "code",
   "execution_count": 1,
   "id": "e6c0ef4f",
   "metadata": {},
   "outputs": [],
   "source": [
    "import pandas as pd"
   ]
  },
  {
   "cell_type": "code",
   "execution_count": 2,
   "id": "e1f2b2d6",
   "metadata": {},
   "outputs": [
    {
     "name": "stdout",
     "output_type": "stream",
     "text": [
      "Original data: [3, 7, 9, 15, 21, 21, 30]\n",
      "Pandas Series:\n",
      "0     3\n",
      "1     7\n",
      "2     9\n",
      "3    15\n",
      "4    21\n",
      "5    21\n",
      "6    30\n",
      "dtype: int64\n"
     ]
    }
   ],
   "source": [
    "# Create dataset and convert to pandas Series\n",
    "data = [3, 7, 9, 15, 21, 21, 30]\n",
    "series = pd.Series(data)\n",
    "\n",
    "print(\"Original data:\", data)\n",
    "print(\"Pandas Series:\")\n",
    "print(series)"
   ]
  },
  {
   "cell_type": "code",
   "execution_count": 3,
   "id": "9edc38eb",
   "metadata": {},
   "outputs": [
    {
     "name": "stdout",
     "output_type": "stream",
     "text": [
      "Descriptive Statistics:\n",
      "=========================\n",
      "Minimum: 3\n",
      "Maximum: 30\n",
      "Mean: 15.14\n",
      "Median: 15.0\n",
      "Standard Deviation: 9.49\n",
      "Range: 27\n"
     ]
    }
   ],
   "source": [
    "# Calculate descriptive statistics\n",
    "minimum = series.min()\n",
    "maximum = series.max()\n",
    "mean = series.mean()\n",
    "median = series.median()\n",
    "std_dev = series.std()\n",
    "data_range = maximum - minimum\n",
    "\n",
    "print(\"Descriptive Statistics:\")\n",
    "print(\"=\" * 25)\n",
    "print(f\"Minimum: {minimum}\")\n",
    "print(f\"Maximum: {maximum}\")\n",
    "print(f\"Mean: {mean:.2f}\")\n",
    "print(f\"Median: {median}\")\n",
    "print(f\"Standard Deviation: {std_dev:.2f}\")\n",
    "print(f\"Range: {data_range}\")"
   ]
  },
  {
   "cell_type": "code",
   "execution_count": 4,
   "id": "95485d02",
   "metadata": {},
   "outputs": [
    {
     "name": "stdout",
     "output_type": "stream",
     "text": [
      "Distribution Analysis:\n",
      "====================\n",
      "Mean: 15.14\n",
      "Median: 15.0\n",
      "→ Mean is greater than median\n",
      "→ The distribution is right-skewed (positively skewed)\n"
     ]
    }
   ],
   "source": [
    "# Analyze distribution by comparing mean and median\n",
    "print(\"Distribution Analysis:\")\n",
    "print(\"=\" * 20)\n",
    "print(f\"Mean: {mean:.2f}\")\n",
    "print(f\"Median: {median}\")\n",
    "\n",
    "if mean > median:\n",
    "    print(\"→ Mean is greater than median\")\n",
    "    print(\"→ The distribution is right-skewed (positively skewed)\")\n",
    "elif mean < median:\n",
    "    print(\"→ Mean is less than median\") \n",
    "    print(\"→ The distribution is left-skewed (negatively skewed)\")\n",
    "else:\n",
    "    print(\"→ Mean and median are equal\")\n",
    "    print(\"→ The distribution is symmetric\")"
   ]
  }
 ],
 "metadata": {
  "kernelspec": {
   "display_name": "course.ai-application",
   "language": "python",
   "name": "python3"
  },
  "language_info": {
   "codemirror_mode": {
    "name": "ipython",
    "version": 3
   },
   "file_extension": ".py",
   "mimetype": "text/x-python",
   "name": "python",
   "nbconvert_exporter": "python",
   "pygments_lexer": "ipython3",
   "version": "3.10.18"
  }
 },
 "nbformat": 4,
 "nbformat_minor": 5
}
